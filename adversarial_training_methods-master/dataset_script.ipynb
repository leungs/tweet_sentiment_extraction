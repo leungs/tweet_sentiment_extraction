{
 "cells": [
  {
   "cell_type": "code",
   "execution_count": null,
   "metadata": {
    "collapsed": true
   },
   "outputs": [],
   "source": [
    "import numpy as np\n",
    "from os import listdir\n",
    "from os.path import isfile, join\n",
    "from nltk import word_tokenize\n",
    "from nltk import RegexpTokenizer\n",
    "tokenizer = RegexpTokenizer(r'\\w+')"
   ]
  },
  {
   "cell_type": "code",
   "execution_count": null,
   "metadata": {
    "collapsed": true
   },
   "outputs": [],
   "source": [
    "dictionary = np.load(\"./dataset/imdb/nltk_dictionary.npy\").item()"
   ]
  },
  {
   "cell_type": "code",
   "execution_count": null,
   "metadata": {
    "collapsed": true
   },
   "outputs": [],
   "source": [
    "pos_files = [f for f in listdir(\"./dataset/imdb/train/pos\") if ( isfile(join(\"./dataset/imdb/train/pos\", f)) and (f[0] != '.') ) ]\n",
    "neg_files = [f for f in listdir(\"./dataset/imdb/train/neg\") if ( isfile(join(\"./dataset/imdb/train/neg\", f)) and (f[0] != '.') ) ]\n",
    "unl_files = [f for f in listdir(\"./dataset/imdb/train/unsup\") if ( isfile(join(\"./dataset/imdb/train/unsup\", f)) and (f[0] != '.') ) ]"
   ]
  },
  {
   "cell_type": "code",
   "execution_count": null,
   "metadata": {},
   "outputs": [],
   "source": [
    "print( \"Labeled...\" )\n",
    "xtrain = list()\n",
    "ytrain = list()\n",
    "for p in pos_files:\n",
    "    pos = open(\"./dataset/imdb/train/pos/\"+p, 'r')\n",
    "    for line in pos:\n",
    "        if line:\n",
    "            line = line.replace('<br /><br />', ' ')\n",
    "            tokens = tokenizer.tokenize(line.lower())\n",
    "            tokens = [ (dictionary[t] if (t in dictionary) else dictionary['<unk>']) for t in tokens ] \n",
    "            \n",
    "            xtrain.append(tokens)\n",
    "            ytrain.append(1)     \n",
    "        else:\n",
    "            print(\"empty line: {}.\".format(line))\n",
    "    pos.close()\n",
    "    \n",
    "for n in neg_files:\n",
    "    neg = open(\"./dataset/imdb/train/neg/\"+n, 'r')\n",
    "    for line in neg:\n",
    "        if line:\n",
    "            line = line.replace('<br /><br />', ' ')\n",
    "            tokens = tokenizer.tokenize(line.lower())\n",
    "            tokens = [ (dictionary[t] if (t in dictionary) else dictionary['<unk>']) for t in tokens ] \n",
    "            \n",
    "            xtrain.append(tokens)\n",
    "            ytrain.append(0)       \n",
    "        else:\n",
    "            print(\"empty line: {}.\".format(line))\n",
    "    neg.close()\n",
    "\n",
    "print( \"Unlabeled...\" )\n",
    "unlab = list()\n",
    "for u in unl_files:\n",
    "    unl = open(\"./dataset/imdb/train/unsup/\"+u, 'r')\n",
    "    for line in unl:\n",
    "        if line:\n",
    "            line = line.replace('<br /><br />', ' ')\n",
    "            tokens = tokenizer.tokenize(line.lower())\n",
    "            tokens = [ (dictionary[t] if (t in dictionary) else dictionary['<unk>']) for t in tokens ] \n",
    "            \n",
    "            unlab.append(tokens)            \n",
    "        else:\n",
    "            print(\"empty line: {}.\".format(line))\n",
    "    unl.close()"
   ]
  },
  {
   "cell_type": "code",
   "execution_count": null,
   "metadata": {
    "collapsed": true
   },
   "outputs": [],
   "source": [
    "xtrain = np.asarray(xtrain)\n",
    "ytrain = np.asarray(ytrain)\n",
    "unlab = np.asarray(unlab)"
   ]
  },
  {
   "cell_type": "code",
   "execution_count": null,
   "metadata": {
    "collapsed": true
   },
   "outputs": [],
   "source": [
    "np.save(\"./dataset/imdb/nltk_xtrain.npy\", xtrain)\n",
    "np.save(\"./dataset/imdb/nltk_ytrain.npy\", ytrain)\n",
    "np.save(\"./dataset/imdb/nltk_ultrain.npy\", unlab)"
   ]
  },
  {
   "cell_type": "code",
   "execution_count": null,
   "metadata": {
    "collapsed": true
   },
   "outputs": [],
   "source": []
  }
 ],
 "metadata": {
  "kernelspec": {
   "display_name": "Python 3",
   "language": "python",
   "name": "python3"
  },
  "language_info": {
   "codemirror_mode": {
    "name": "ipython",
    "version": 3
   },
   "file_extension": ".py",
   "mimetype": "text/x-python",
   "name": "python",
   "nbconvert_exporter": "python",
   "pygments_lexer": "ipython3",
   "version": "3.6.2"
  }
 },
 "nbformat": 4,
 "nbformat_minor": 2
}
