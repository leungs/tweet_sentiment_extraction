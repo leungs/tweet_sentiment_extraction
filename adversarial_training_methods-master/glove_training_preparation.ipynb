{
 "cells": [
  {
   "cell_type": "code",
   "execution_count": null,
   "metadata": {
    "collapsed": true
   },
   "outputs": [],
   "source": [
    "# TAKE ALL REVIEWS(POS NEG AND UNSUP) AND MERGE THEM IN A SINGLE TEXT FILE WITH ONE REVIEW PER LINE (merged.txt)\n",
    "# PERFORM TEXT TOKENIZATION\n",
    "\n",
    "# REWRITE ALL THE TOKENIZED CORPUS AS A SINGLE WORDS SEQUENCE SEPARATED BY A BLANK SPACE (new_merged).\n",
    "# This file is used as input for GloVe training."
   ]
  },
  {
   "cell_type": "code",
   "execution_count": null,
   "metadata": {
    "collapsed": true
   },
   "outputs": [],
   "source": [
    "from os import listdir\n",
    "from os.path import isfile, join\n",
    "from nltk import RegexpTokenizer\n",
    "tokenizer = RegexpTokenizer(r'\\w+')"
   ]
  },
  {
   "cell_type": "code",
   "execution_count": null,
   "metadata": {
    "collapsed": true
   },
   "outputs": [],
   "source": [
    "# new_path = \"./\"\n",
    "old_path = \"./dataset/imdb/train/\""
   ]
  },
  {
   "cell_type": "code",
   "execution_count": null,
   "metadata": {
    "collapsed": true
   },
   "outputs": [],
   "source": [
    "# support file \n",
    "merged = open(\"./merged.txt\", \"w\")"
   ]
  },
  {
   "cell_type": "code",
   "execution_count": null,
   "metadata": {
    "collapsed": true
   },
   "outputs": [],
   "source": [
    "current_directory = old_path + 'pos'\n",
    "files = [f for f in listdir(current_directory) if ( isfile(join(current_directory, f)) and (f[0] != '.') ) ]\n",
    "for f in files:\n",
    "    t = open(current_directory+'/'+f, 'r')\n",
    "    for line in t:\n",
    "        if line:\n",
    "            line = line.replace('<br /><br />', ' ')\n",
    "            merged.write(line+'\\n')\n",
    "    t.close()\n",
    "\n",
    "current_directory = old_path + 'neg'\n",
    "files = [f for f in listdir(current_directory) if ( isfile(join(current_directory, f)) and (f[0] != '.') ) ]\n",
    "for f in files:\n",
    "    t = open(current_directory+'/'+f, 'r')\n",
    "    for line in t:\n",
    "        if line:\n",
    "            line = line.replace('<br /><br />', ' ')\n",
    "            merged.write(line+'\\n')\n",
    "    t.close()\n",
    "\n",
    "current_directory = old_path + 'unsup'\n",
    "files = [f for f in listdir(current_directory) if ( isfile(join(current_directory, f)) and (f[0] != '.') ) ]\n",
    "for f in files:\n",
    "    t = open(current_directory+'/'+f, 'r')\n",
    "    for line in t:\n",
    "        if line:\n",
    "            line = line.replace('<br /><br />', ' ')\n",
    "            merged.write(line+'\\n')\n",
    "    t.close()\n",
    "\n",
    "merged.close()"
   ]
  },
  {
   "cell_type": "code",
   "execution_count": null,
   "metadata": {
    "collapsed": true
   },
   "outputs": [],
   "source": [
    "corpus = open(\"./merged.txt\", \"r\")\n",
    "new_corpus = open(\"./GloVe-1.2/new_merged\", \"w\")"
   ]
  },
  {
   "cell_type": "code",
   "execution_count": null,
   "metadata": {
    "collapsed": true
   },
   "outputs": [],
   "source": [
    "lines = corpus.readlines()\n",
    "text = ''\n",
    "\n",
    "# put everithing in one line\n",
    "for line in lines:\n",
    "    text = text + line\n",
    "corpus.close()\n",
    "\n",
    "# perform TOKENIZATION, returns a vector of words\n",
    "words = tokenizer.tokenize(text.lower())\n",
    "\n",
    "# rewrite this vector in a file in which words are separated by blank spaces\n",
    "for w in words:\n",
    "    new_corpus.seek(0, 2)\n",
    "    new_corpus.write(w + ' ')\n",
    "new_corpus.close()"
   ]
  },
  {
   "cell_type": "code",
   "execution_count": null,
   "metadata": {
    "collapsed": true
   },
   "outputs": [],
   "source": []
  }
 ],
 "metadata": {
  "kernelspec": {
   "display_name": "Python 3",
   "language": "python",
   "name": "python3"
  },
  "language_info": {
   "codemirror_mode": {
    "name": "ipython",
    "version": 3
   },
   "file_extension": ".py",
   "mimetype": "text/x-python",
   "name": "python",
   "nbconvert_exporter": "python",
   "pygments_lexer": "ipython3",
   "version": "3.6.2"
  }
 },
 "nbformat": 4,
 "nbformat_minor": 2
}
