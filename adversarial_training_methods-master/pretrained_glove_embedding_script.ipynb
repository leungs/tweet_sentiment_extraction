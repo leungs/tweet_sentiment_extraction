{
 "cells": [
  {
   "cell_type": "code",
   "execution_count": null,
   "metadata": {
    "collapsed": true
   },
   "outputs": [],
   "source": [
    "import numpy as np"
   ]
  },
  {
   "cell_type": "code",
   "execution_count": null,
   "metadata": {
    "collapsed": true
   },
   "outputs": [],
   "source": [
    "# building dictionary word:word_embedding\n",
    "\n",
    "word_embedding = dict()\n",
    "dictionary = dict()\n",
    "vectors = open(\"./GloVe-1.2/vectors.txt\", \"r\")\n",
    "for i, line in enumerate(vectors):\n",
    "    sline = line.split(' ')\n",
    "    try:\n",
    "        word = sline[0]\n",
    "        word_embedding[word] = np.asarray(sline[1:], dtype='float32')\n",
    "        dictionary[word] = i+1\n",
    "    except:\n",
    "        print(\"error at index {}\".format(i))"
   ]
  },
  {
   "cell_type": "code",
   "execution_count": null,
   "metadata": {
    "collapsed": true,
    "scrolled": true
   },
   "outputs": [],
   "source": [
    "# building embedding matrix (used by the network)\n",
    "embedding = np.zeros( shape=(len(dictionary.keys())+1, len(list(word_embedding.values())[0])))\n",
    "for word in dictionary.keys():\n",
    "    idx = dictionary[word]\n",
    "    embedding[idx] = word_embedding[word]"
   ]
  },
  {
   "cell_type": "code",
   "execution_count": null,
   "metadata": {
    "collapsed": true
   },
   "outputs": [],
   "source": [
    "np.save(\"./dataset/imdb/nltk_embedding_matrix.npy\", embedding)\n",
    "np.save(\"./dataset/imdb/nltk_dictionary.npy\", dictionary)\n",
    "np.save(\"./dataset/imdb/nltk_word_embedding.npy\", word_embedding)"
   ]
  },
  {
   "cell_type": "code",
   "execution_count": null,
   "metadata": {
    "collapsed": true
   },
   "outputs": [],
   "source": []
  }
 ],
 "metadata": {
  "kernelspec": {
   "display_name": "Python 3",
   "language": "python",
   "name": "python3"
  },
  "language_info": {
   "codemirror_mode": {
    "name": "ipython",
    "version": 3
   },
   "file_extension": ".py",
   "mimetype": "text/x-python",
   "name": "python",
   "nbconvert_exporter": "python",
   "pygments_lexer": "ipython3",
   "version": "3.6.2"
  }
 },
 "nbformat": 4,
 "nbformat_minor": 2
}
